{
  "nbformat": 4,
  "nbformat_minor": 0,
  "metadata": {
    "colab": {
      "name": "Natural number.ipynb",
      "provenance": []
    },
    "kernelspec": {
      "name": "python3",
      "display_name": "Python 3"
    },
    "language_info": {
      "name": "python"
    }
  },
  "cells": [
    {
      "cell_type": "code",
      "metadata": {
        "colab": {
          "base_uri": "https://localhost:8080/"
        },
        "id": "j5nwENxkQkaa",
        "outputId": "4fa28963-2f5e-4849-809a-1c5ca6370089"
      },
      "source": [
        "n = int(input(\"Enter number :\"))\n",
        "sum = 0\n",
        "# loop from 1 to n\n",
        "for num in range(1, n + 1, 1):\n",
        "\n",
        "    sum = sum + num\n",
        "print(\"Sum of first \", n, \"numbers is: \", sum)\n",
        "average = sum / n\n",
        "print(\"Average of \", n, \"numbers is: \", average)"
      ],
      "execution_count": null,
      "outputs": [
        {
          "output_type": "stream",
          "name": "stdout",
          "text": [
            "Enter number5\n",
            "Sum of first  5 numbers is:  15\n",
            "Average of  5 numbers is:  3.0\n"
          ]
        }
      ]
    }
  ]
}