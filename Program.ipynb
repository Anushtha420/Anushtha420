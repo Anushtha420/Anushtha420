{
  "nbformat": 4,
  "nbformat_minor": 0,
  "metadata": {
    "colab": {
      "name": "Program.ipynb",
      "provenance": [],
      "authorship_tag": "ABX9TyOt+znnXnMiGQxOFd6o4o5C",
      "include_colab_link": true
    },
    "kernelspec": {
      "name": "python3",
      "display_name": "Python 3"
    },
    "language_info": {
      "name": "python"
    }
  },
  "cells": [
    {
      "cell_type": "markdown",
      "metadata": {
        "id": "view-in-github",
        "colab_type": "text"
      },
      "source": [
        "<a href=\"https://colab.research.google.com/github/Anushtha420/Anushtha420/blob/main/Program.ipynb\" target=\"_parent\"><img src=\"https://colab.research.google.com/assets/colab-badge.svg\" alt=\"Open In Colab\"/></a>"
      ]
    },
    {
      "cell_type": "code",
      "metadata": {
        "colab": {
          "base_uri": "https://localhost:8080/"
        },
        "id": "01-041WUbsX0",
        "outputId": "3f3089d8-342d-45a1-9179-aeeaddd65bb5"
      },
      "source": [
        "for i in range(1, 11):\n",
        "    print(i)\n",
        "    "
      ],
      "execution_count": 1,
      "outputs": [
        {
          "output_type": "stream",
          "name": "stdout",
          "text": [
            "1\n",
            "2\n",
            "3\n",
            "4\n",
            "5\n",
            "6\n",
            "7\n",
            "8\n",
            "9\n",
            "10\n"
          ]
        }
      ]
    },
    {
      "cell_type": "code",
      "metadata": {
        "colab": {
          "base_uri": "https://localhost:8080/"
        },
        "id": "B8snUeyKeCwo",
        "outputId": "fec58f3b-cb41-4a7e-c825-ed8c7f988f8b"
      },
      "source": [
        "import numpy\n",
        "\n",
        "# print(\"Creating 5X2 array using numpy.arange\")\n",
        "sampleArray = numpy.arange(100, 200, 10)\n",
        "sampleArray = sampleArray.reshape(5,2)\n",
        "print (sampleArray)"
      ],
      "execution_count": 3,
      "outputs": [
        {
          "output_type": "stream",
          "name": "stdout",
          "text": [
            "[[100 110]\n",
            " [120 130]\n",
            " [140 150]\n",
            " [160 170]\n",
            " [180 190]]\n"
          ]
        }
      ]
    },
    {
      "cell_type": "code",
      "metadata": {
        "colab": {
          "base_uri": "https://localhost:8080/",
          "height": 295
        },
        "id": "uTLdzlzqjGDb",
        "outputId": "01c06a2f-278c-433f-c718-8c2aac16b736"
      },
      "source": [
        "from matplotlib import pyplot as plt\n",
        "x=[5,2,7]\n",
        "y=[2,16,4]\n",
        "plt.plot(x,y)\n",
        "plt.title('info')\n",
        "plt.ylabel('y axis')\n",
        "plt.xlabel('x axis')\n",
        "plt.show()"
      ],
      "execution_count": 1,
      "outputs": [
        {
          "output_type": "display_data",
          "data": {
            "image/png": "[encoded data removed]",
            "text/plain": [
              "<Figure size 432x288 with 1 Axes>"
            ]
          },
          "metadata": {
            "needs_background": "light"
          }
        }
      ]
    },
    {
      "cell_type": "code",
      "metadata": {
        "colab": {
          "base_uri": "https://localhost:8080/"
        },
        "id": "DCVXN86zkXFQ",
        "outputId": "15676a56-6bdf-47cc-ce6e-fa989d336de6"
      },
      "source": [
        "import string    \n",
        "import random # define the random module  \n",
        "S = 10  \n",
        "# call random.choices() string module to find the string in Uppercase + numeric data.  \n",
        "ran = ''.join(random.choices(string.ascii_uppercase + string.digits, k = S))    \n",
        "print(\"The randomly generated string is : \" + str(ran)) # print the random data  "
      ],
      "execution_count": 3,
      "outputs": [
        {
          "output_type": "stream",
          "name": "stdout",
          "text": [
            "The randomly generated string is : YNHTB169FV\n"
          ]
        }
      ]
    },
    {
      "cell_type": "code",
      "metadata": {
        "colab": {
          "base_uri": "https://localhost:8080/"
        },
        "id": "yJNsZbfBk8Y1",
        "outputId": "0c4be90c-0a98-4d9a-a32a-e0efde0c997d"
      },
      "source": [
        "import string\n",
        "import random # define the random module.\n",
        "S = 60 # number of characters in the string.\n",
        "# call random. ...\n",
        "ran = ''.join(random.choices(string.ascii_uppercase + string.digits, k = S))\n",
        "print(\"The randomly generated string is : \" + str(ran)) # print the random data."
      ],
      "execution_count": 6,
      "outputs": [
        {
          "output_type": "stream",
          "name": "stdout",
          "text": [
            "The randomly generated string is : N98D6F9S3Q8ZHU0BK63FFLE8D6WAS1K9CZXRH2UCZN67JTF266SBDV73B6UI\n"
          ]
        }
      ]
    },
    {
      "cell_type": "code",
      "metadata": {
        "colab": {
          "base_uri": "https://localhost:8080/"
        },
        "id": "0NIIU7prl1Of",
        "outputId": "ca4f8d7b-1462-4964-c9f0-281c7140021e"
      },
      "source": [
        "import random\n",
        "count = 1\n",
        "while count <= 3 :\n",
        "    num = random.randint(100,999)\n",
        "    if num % 5 == 0 :\n",
        "        print (num)\n",
        "        count += 1"
      ],
      "execution_count": 7,
      "outputs": [
        {
          "output_type": "stream",
          "name": "stdout",
          "text": [
            "350\n",
            "965\n",
            "630\n"
          ]
        }
      ]
    }
  ]
}