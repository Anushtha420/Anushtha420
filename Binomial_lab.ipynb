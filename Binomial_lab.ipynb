{
  "nbformat": 4,
  "nbformat_minor": 0,
  "metadata": {
    "colab": {
      "name": "Binomial_lab.ipynb",
      "provenance": [],
      "authorship_tag": "ABX9TyPbeo+bU6/dXZih9Sz8/og8",
      "include_colab_link": true
    },
    "kernelspec": {
      "name": "python3",
      "display_name": "Python 3"
    },
    "language_info": {
      "name": "python"
    }
  },
  "cells": [
    {
      "cell_type": "markdown",
      "metadata": {
        "id": "view-in-github",
        "colab_type": "text"
      },
      "source": [
        "<a href=\"https://colab.research.google.com/github/Anushtha420/Anushtha420/blob/main/Binomial_lab.ipynb\" target=\"_parent\"><img src=\"https://colab.research.google.com/assets/colab-badge.svg\" alt=\"Open In Colab\"/></a>"
      ]
    },
    {
      "cell_type": "code",
      "metadata": {
        "colab": {
          "base_uri": "https://localhost:8080/",
          "height": 385
        },
        "id": "qYKsPWEPenlK",
        "outputId": "5a7a6675-8d02-4746-dc1a-a73909e99e89"
      },
      "source": [
        "from scipy.stats import binom \n",
        "import matplotlib.pyplot as plt\n",
        "n=10\n",
        "p=0.1\n",
        "\n",
        "r_values = list(range(n+1))\n",
        "mean , var = binom.stats(n,p)\n",
        "\n",
        "pd = [binom.pmf(r,n,p) for r in r_values ]\n",
        "for i in range(n+1):\n",
        "  if i>3:\n",
        "    print(str(r_values[i]) + \"\\t\" + str(pd[i]))\n",
        "plt.bar(r_values , pd)\n",
        "plt.show()\n",
        "  "
      ],
      "execution_count": 35,
      "outputs": [
        {
          "output_type": "stream",
          "name": "stdout",
          "text": [
            "4\t0.011160261000000015\n",
            "5\t0.0014880348000000042\n",
            "6\t0.00013778100000000015\n",
            "7\t8.748000000000036e-06\n",
            "8\t3.645000000000009e-07\n",
            "9\t9.000000000000028e-09\n",
            "10\t1.0000000000000031e-10\n"
          ]
        },
        {
          "output_type": "display_data",
          "data": {
            "image/png": "[encoded data removed]",
            "text/plain": [
              "<Figure size 432x288 with 1 Axes>"
            ]
          },
          "metadata": {
            "needs_background": "light"
          }
        }
      ]
    },
    {
      "cell_type": "code",
      "metadata": {
        "colab": {
          "base_uri": "https://localhost:8080/",
          "height": 282
        },
        "id": "0t_yyRcVnl8B",
        "outputId": "04e5f268-6571-404a-f38a-d1500c598503"
      },
      "source": [
        "from scipy.stats import binom \n",
        "import matplotlib.pyplot as plt\n",
        "n= 8\n",
        "p=0.1\n",
        "\n",
        "r_values = list(range(n+1))\n",
        "mean , var = binom.stats(n,p)\n",
        "\n",
        "pd = [binom.pmf(r,n,p) for r in r_values ]\n",
        "for i in range(n+1):\n",
        "  if i==1:\n",
        "    print(str(r_values[i]) + \"\\t\" + str(pd[i]))\n",
        "plt.bar(r_values , pd)\n",
        "plt.show()\n",
        "  "
      ],
      "execution_count": 33,
      "outputs": [
        {
          "output_type": "stream",
          "name": "stdout",
          "text": [
            "1\t0.3826375200000002\n"
          ]
        },
        {
          "output_type": "display_data",
          "data": {
            "image/png": "[encoded data removed]",
            "text/plain": [
              "<Figure size 432x288 with 1 Axes>"
            ]
          },
          "metadata": {
            "needs_background": "light"
          }
        }
      ]
    },
    {
      "cell_type": "code",
      "metadata": {
        "colab": {
          "base_uri": "https://localhost:8080/",
          "height": 418
        },
        "id": "HMpH7Hf0qhII",
        "outputId": "8df622a4-a20c-4c77-936e-da24679cd699"
      },
      "source": [
        "from scipy.stats import binom \n",
        "import matplotlib.pyplot as plt\n",
        "n= 6\n",
        "p=0.8\n",
        "\n",
        "r_values = list(range(n+1))\n",
        "mean , var = binom.stats(n,p)\n",
        "\n",
        "pd = [binom.pmf(r,n,p) for r in r_values ]\n",
        "for i in range(n+1):\n",
        "  # if i==1:\n",
        "    print(str(r_values[i]) + \"\\t\" + str(pd[i]))\n",
        "print(\"mean = \"+str (mean))\n",
        "print(\"variance =\"+str(var))\n",
        "plt.bar(r_values , pd)\n",
        "plt.show()\n",
        "  "
      ],
      "execution_count": 1,
      "outputs": [
        {
          "output_type": "stream",
          "name": "stdout",
          "text": [
            "0\t6.399999999999996e-05\n",
            "1\t0.0015360000000000011\n",
            "2\t0.01536\n",
            "3\t0.08192\n",
            "4\t0.24575999999999998\n",
            "5\t0.3932160000000002\n",
            "6\t0.2621440000000001\n",
            "mean = 4.800000000000001\n",
            "variance =0.96\n"
          ]
        },
        {
          "output_type": "display_data",
          "data": {
            "image/png": "[encoded data removed]",
            "text/plain": [
              "<Figure size 432x288 with 1 Axes>"
            ]
          },
          "metadata": {
            "needs_background": "light"
          }
        }
      ]
    },
    {
      "cell_type": "code",
      "metadata": {
        "colab": {
          "base_uri": "https://localhost:8080/",
          "height": 418
        },
        "id": "iz4CHz55Zbo2",
        "outputId": "de4023a2-bd03-4b0d-9758-c070ad7a3f4e"
      },
      "source": [
        "from scipy.stats import binom \n",
        "import matplotlib.pyplot as plt\n",
        "n= 12\n",
        "p=0.2\n",
        "\n",
        "r_values = list(range(n+1))\n",
        "mean , var = binom.stats(n,p)\n",
        "\n",
        "pd = [binom.pmf(r,n,p) for r in r_values ]\n",
        "for i in range(n+1):\n",
        "  # for exactly two\n",
        "   if i==2: \n",
        "    print(str(pd[i]))\n",
        "  # more than two \n",
        "   if i<2:\n",
        "    print(str(pd[i]))\n",
        "\n",
        "  # atmost two \n",
        "   if i<=2:\n",
        "    print(str(pd[i]))\n",
        "sum=0\n",
        "sum=sum+pd[i]\n",
        "print(sum)\n",
        "  \n",
        "print(\"mean = \"+str (mean))\n",
        "print(\"variance =\"+str(var))\n",
        "plt.bar(r_values , pd)\n",
        "plt.show()\n",
        "  "
      ],
      "execution_count": 20,
      "outputs": [
        {
          "output_type": "stream",
          "name": "stdout",
          "text": [
            "0.06871947673599997\n",
            "0.06871947673599997\n",
            "0.2061584302079996\n",
            "0.2061584302079996\n",
            "0.28346784153599947\n",
            "0.28346784153599947\n",
            "4.096000000000008e-09\n",
            "mean = 2.4000000000000004\n",
            "variance =1.9200000000000004\n"
          ]
        },
        {
          "output_type": "display_data",
          "data": {
            "image/png": "[encoded data removed]",
            "text/plain": [
              "<Figure size 432x288 with 1 Axes>"
            ]
          },
          "metadata": {
            "needs_background": "light"
          }
        }
      ]
    }
  ]
}