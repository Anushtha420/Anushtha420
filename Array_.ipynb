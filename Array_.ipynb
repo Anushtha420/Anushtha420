{
  "nbformat": 4,
  "nbformat_minor": 0,
  "metadata": {
    "colab": {
      "name": "Array .ipynb",
      "provenance": [],
      "authorship_tag": "ABX9TyMJNMR+51EJhHhZ3gGXE4IW",
      "include_colab_link": true
    },
    "kernelspec": {
      "name": "python3",
      "display_name": "Python 3"
    },
    "language_info": {
      "name": "python"
    }
  },
  "cells": [
    {
      "cell_type": "markdown",
      "metadata": {
        "id": "view-in-github",
        "colab_type": "text"
      },
      "source": [
        "<a href=\"https://colab.research.google.com/github/Anushtha420/Anushtha420/blob/main/Array_.ipynb\" target=\"_parent\"><img src=\"https://colab.research.google.com/assets/colab-badge.svg\" alt=\"Open In Colab\"/></a>"
      ]
    },
    {
      "cell_type": "code",
      "metadata": {
        "id": "V0M5mo4to4dn"
      },
      "source": [
        "import numpy\n",
        "\n",
        "# print(\"Creating 5X2 array using numpy.arange\")\n",
        "sampleArray = numpy.arange(100, 200, 10)\n",
        "sampleArray = sampleArray.reshape(5,2)\n",
        "print (sampleArray)"
      ],
      "execution_count": null,
      "outputs": []
    }
  ]
}